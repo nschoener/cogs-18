{
 "cells": [
  {
   "cell_type": "markdown",
   "metadata": {},
   "source": [
    "# COGS 18 Final Project"
   ]
  },
  {
   "cell_type": "markdown",
   "metadata": {},
   "source": [
    "## Horoscope"
   ]
  },
  {
   "cell_type": "markdown",
   "metadata": {},
   "source": [
    "    In the following, there are 4 functions which each determine relevant information about a person's zodiac sign and its implications. The first function, determine_zodiac will take the inputs of a person's birth month and day, and will return the person's zodiac sign. The second function will take a person's zodiac sign as an input and return specific character traits that relate to that sign. The third will take a person's zodiac sign as an input and return a horoscope message which is scraped from an online horoscope website and updated every day. The fourth will take the name of a person whom the user wishes to check their compatibility with, along with that person's sign and the user's sign, and will reveal whether they are a match or not. "
   ]
  },
  {
   "cell_type": "code",
   "execution_count": 1,
   "metadata": {},
   "outputs": [],
   "source": [
    "import requests\n",
    "import random\n",
    "import pytest"
   ]
  },
  {
   "cell_type": "code",
   "execution_count": null,
   "metadata": {},
   "outputs": [],
   "source": [
    "#this function will take the user's month and date of birth as inputs and return their zodiac sign\n",
    "month = input('\\nWhat is your month of birth? e.g. November\\n\\n').lower()\n",
    "day = int(input('\\nWhat is your date of birth? e.g. 14\\n\\n'))\n",
    "    \n",
    "def determine_zodiac(month, day):\n",
    "    \"\"\"Determine the user's zodiac sign.  \n",
    "    \n",
    "    Parameters\n",
    "    ----------\n",
    "    month: str\n",
    "        The month to be used to calculate zodiac sign. \n",
    "    day: int\n",
    "        The day to be used to calculate zodiac sign. \n",
    "    \n",
    "    Returns\n",
    "    -------\n",
    "    sign: str\n",
    "        The zodiac sign as determined by the function using the user's birthday.\n",
    "    \"\"\"\n",
    "    if month == 'december':\n",
    "        sign = 'sagittarius' if (day < 23) else 'capricorn'\n",
    "    elif month == 'january':\n",
    "        sign = 'capricorn' if (day < 21) else 'aquarius'\n",
    "    elif month == 'february':\n",
    "        sign = 'aquarius' if (day < 20) else 'pisces'\n",
    "    elif month == 'march':\n",
    "        sign = 'pisces' if (day < 21) else 'aries'\n",
    "    elif month == 'april':\n",
    "        sign = 'aries' if (day < 21) else 'taurus'\n",
    "    elif month == 'may':\n",
    "        sign = 'taurus' if (day < 22) else 'gemini'\n",
    "    elif month == 'june':\n",
    "        sign = 'gemini' if (day < 22) else 'cancer'\n",
    "    elif month == 'july':\n",
    "        sign = 'cancer' if (day < 23) else 'leo'\n",
    "    elif month == 'august':\n",
    "        sign = 'leo' if (day < 22) else 'virgo'\n",
    "    elif month == 'september':\n",
    "        sign = 'virgo' if (day < 24) else 'libra'\n",
    "    elif month == 'october':\n",
    "        sign = 'libra' if (day < 24) else 'scorpio'\n",
    "    elif month == 'november':\n",
    "        sign = 'scorpio' if (day < 23) else 'sagittarius'\n",
    "    else:\n",
    "        print('Invalid date. Please try again.')\n",
    "    return sign\n",
    "\n",
    "sign = determine_zodiac(month, day)\n",
    "print( '\\nYour zodiac sign is ' + sign + '.')"
   ]
  },
  {
   "cell_type": "code",
   "execution_count": null,
   "metadata": {},
   "outputs": [],
   "source": [
    "def test_determine_zodiac():\n",
    "    assert determine_zodiac(december, 21) == sagittarius\n",
    "    assert determine_zodiac(february, 26) == pisces\n",
    "    assert determine_zodiac(june, 20) == cancer\n",
    "    assert determine_zodiac(september, 14) == virgo"
   ]
  },
  {
   "cell_type": "code",
   "execution_count": null,
   "metadata": {},
   "outputs": [],
   "source": [
    "#this function will take the user's zodiac sign and return two character traits associated with that sign\n",
    "def horoscope_traits(sign = 'default'):\n",
    "    \"\"\"Determine the user's zodiac traits.  \n",
    "    \n",
    "    Parameters\n",
    "    ----------\n",
    "    sign: str\n",
    "        The user's zodiac sign as determined by the function determine_sign. \n",
    "    \n",
    "    Returns\n",
    "    -------\n",
    "    traits: str\n",
    "        The traits determined by the function using the user's zodiac sign.\n",
    "    \"\"\"\n",
    "    if sign == 'aries':\n",
    "        traits = ' eager and competitive'\n",
    "    elif sign == 'taurus':\n",
    "        traits = ' strong and dependable'\n",
    "    elif sign == 'gemini':\n",
    "        traits = ' versatile and expressive'\n",
    "    elif sign == 'cancer':\n",
    "        traits = ' intuitive and sentimental'\n",
    "    elif sign == 'leo':\n",
    "        traits = ' self-assured and outgoing'\n",
    "    elif sign == 'virgo':\n",
    "        traits = ' practical and loyal'\n",
    "    elif sign == 'libra':\n",
    "        traits = ' social and diplomatic'\n",
    "    elif sign == 'scorpio':\n",
    "        traits = ' resourceful and brave'\n",
    "    elif sign == 'sagittarius':\n",
    "        traits = ' optimistic and generous'\n",
    "    elif sign == 'capricorn':\n",
    "        traits = ' indepndent and disciplined'\n",
    "    elif sign == 'aquarius':\n",
    "        traits = ' imaginative and uncompromising'\n",
    "    elif sign == 'pisces':\n",
    "        traits = ' affectionate and artistic'\n",
    "    else: \n",
    "        print('Please determine sign first.')\n",
    "    return traits\n",
    "print( '\\n You are' + horoscope_traits(sign) + '.')"
   ]
  },
  {
   "cell_type": "code",
   "execution_count": null,
   "metadata": {},
   "outputs": [],
   "source": [
    "def test_horoscope_traits():\n",
    "    assert horoscope_traits(gemini) == ' versatile and expressive'\n",
    "    assert horoscope_traits(libra) == ' social and diplomatic'\n",
    "    assert horoscope_traits(scorpio) == ' resourceful and brave'\n",
    "    assert horoscope_traits(leo) == ' self-assured and outgoing'"
   ]
  },
  {
   "cell_type": "code",
   "execution_count": null,
   "metadata": {},
   "outputs": [],
   "source": [
    "#horoscope data for this function is taken from http://horoscope-api.herokuapp.com/horoscope/today/\n",
    "#this function will take the user's zodaic sign and return a daily horoscope message using an API\n",
    "def daily_horoscope(sign = 'default'):\n",
    "    \"\"\"Return a daily horoscope.  \n",
    "    \n",
    "    Parameters\n",
    "    ----------\n",
    "    sign: str\n",
    "        The user's zodiac sign as determined by the function determine_sign. \n",
    "    \n",
    "    Returns\n",
    "    -------\n",
    "    result: str\n",
    "        The daily horoscope message scraped from 'http://horoscope-api.herokuapp.com/horoscope/today/' for a particular sign. \n",
    "    \"\"\"\n",
    "    import requests\n",
    "    base_url = 'http://horoscope-api.herokuapp.com/horoscope/today/'\n",
    "    fetch_url = base_url + sign[0].upper() + sign[1:]\n",
    "    horoscope = requests.get(fetch_url)\n",
    "    result = horoscope.json()\n",
    "    return result['horoscope']\n",
    "print(daily_horoscope(sign))"
   ]
  },
  {
   "cell_type": "code",
   "execution_count": null,
   "metadata": {},
   "outputs": [],
   "source": [
    "#this function will take the name of a potential match, their sign, and the user's sign and will calculate whether the two are a match\n",
    "\"\"\"Return a daily horoscope.  \n",
    "    \n",
    "    Parameters\n",
    "    ----------\n",
    "    sign: str\n",
    "        The user's zodiac sign as determined by the function determine_sign. \n",
    "        \n",
    "    potential_match: str\n",
    "        The name of a person with whom the user would like to check their copatibility. \n",
    "    potential_match_sign: str\n",
    "        The zodiac sign of someone with whom the user would like to check their compatibilty. \n",
    "    my_score: int\n",
    "        A random score generated for use within the function to calculate compatibility. \n",
    "    \n",
    "    Returns\n",
    "    -------\n",
    "    conclusion: str\n",
    "        The result of the calculation in the form of a statement of compatibility. \n",
    "    \"\"\"\n",
    "potential_match = input('\\nWhom would you like to check your compatibility with? e.g. Jessica\\n\\n')\n",
    "potential_match_sign = input('\\nWhat is their sign? e.g. Sagittarius\\n\\n').lower()\n",
    "my_score = random.randrange(0, 100, 1)\n",
    "def compatibility(sign, potential_match, potential_match_sign, my_score):\n",
    "    \n",
    "    dict_of_signs = {'aries': 58, 'aquarius': 11, 'cancer': 8, 'capricorn': 10, 'gemini': 82, 'leo': 99, 'libra': 79, 'pisces': 57 , 'sagittarius': 38, 'scorpio': 34, 'taurus': 8, 'virgo': 37}\n",
    "    if (my_score - 20) < dict_of_signs[potential_match_sign] < (my_score + 20):\n",
    "        conclusion = '\\n\\nYou and ' + potential_match + ' are a match!'\n",
    "    else: \n",
    "        conclusion = '\\n\\nYou and ' + potential_match + ' are not a match :('\n",
    "    return conclusion\n",
    "                             \n",
    "conclusion = compatibility(sign, potential_match, potential_match_sign, my_score)\n",
    "print(conclusion)\n",
    "                         "
   ]
  },
  {
   "cell_type": "code",
   "execution_count": null,
   "metadata": {},
   "outputs": [],
   "source": [
    "def test_compatibility():\n",
    "    assert compatibility(gemini, Kat, pisces, 43) == '\\n\\nYou and Kat are not a match :('\n",
    "    assert compatibility(libra, Balazs, aries, 41) == '\\n\\nYou and Balazs are a match!'"
   ]
  }
 ],
 "metadata": {
  "kernelspec": {
   "display_name": "Python 3",
   "language": "python",
   "name": "python3"
  },
  "language_info": {
   "codemirror_mode": {
    "name": "ipython",
    "version": 3
   },
   "file_extension": ".py",
   "mimetype": "text/x-python",
   "name": "python",
   "nbconvert_exporter": "python",
   "pygments_lexer": "ipython3",
   "version": "3.7.4"
  }
 },
 "nbformat": 4,
 "nbformat_minor": 4
}
